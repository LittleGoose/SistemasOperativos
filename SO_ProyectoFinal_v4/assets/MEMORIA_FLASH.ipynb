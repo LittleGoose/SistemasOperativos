{
  "cells": [
    {
      "cell_type": "markdown",
      "id": "VtECoCggrYR4",
      "metadata": {
        "id": "VtECoCggrYR4"
      },
      "source": [
        "| Project name   | Comunicacion QUADSPI entre una tarjeta STM32 y una memoria flash |\n",
        "|:----------|:-------------|\n",
        "| **Autor(S)**| T034991, Luis Rafael Garcia Dominguez <br> T034630, Teodoro Gonzalez Tellado <br> T033150, Eumir Iram Abbud Orozco  |\n",
        "| **Editor**|Dr. Adán Hirales Carbajal|\n",
        "| **Last update** | 07/12/2023 |"
      ]
    },
    {
      "cell_type": "markdown",
      "id": "GDvJAZxvrYSK",
      "metadata": {
        "id": "GDvJAZxvrYSK"
      },
      "source": [
        "# Problematica a solucionar:\n",
        "\n",
        "En el desarrollo de sistemas embebidos avanzados, la eficiencia en la gestión de la memoria y la comunicación de datos son esenciales para el rendimiento y la fiabilidad del sistema. Nuestro proyecto se centra en la implementación de un sistema que utiliza una placa STM32F4, junto con una memoria externa Winbond Q25W32. Esta memoria es ideal para nuestras necesidades debido a su capacidad y velocidad, pero presenta un conjunto único de desafíos.\n",
        "\n",
        "**El principal desafío es establecer una comunicación efectiva y eficiente entre la placa STM32F4 y la memoria Winbond Q25W32** utilizando el protocolo QUADSPI. Este protocolo es crítico para nuestras operaciones de lectura, escritura y borrado de datos. Sin embargo, la implementación de QUADSPI requiere una comprensión detallada de las capacidades de la placa STM32F4 y la memoria Q25W32, así como la correcta configuración y sincronización entre ambos componentes.\n",
        "\n",
        "Debemos tener en mente que la memoria Winbond Q25W32 viene como un componente independiente sin una interfaz de placa a placa prediseñada. Por lo tanto, uno de los desafíos críticos es **idear una forma efectiva de conectar físicamente los pines de la memoria Q25W32 a las entradas de conexión de la placa STM32F4**. Esto implica el diseño de un circuito o el uso de una placa adaptadora que no solo facilite la conexión física sino que también garantice la integridad de la señal y la fiabilidad del sistema en condiciones de funcionamiento variadas.\n",
        "\n",
        "Es necesario **configurar la placa STM32F4 para comunicarse efectivamente con la memoria Q25W32 a través de QUADSPI** es un desafío técnico significativo. Esto incluye la programación de la placa STM32F4 para manejar adecuadamente las operaciones de lectura, escritura y borrado en la memoria, optimizando el rendimiento y minimizando los errores."
      ]
    },
    {
      "cell_type": "markdown",
      "id": "E_2gWcuoLqeq",
      "metadata": {
        "id": "E_2gWcuoLqeq"
      },
      "source": [
        "# Enfoque propuesto:\n",
        "\n",
        "El proyecto propuesto adopta un enfoque integral para abordar la comunicación entre una computadora y una memoria flash mediante el microcontrolador STM32. La estrategia se desglosa en varios niveles interrelacionados:\n",
        "\n",
        "### Diseño de Interfaz Física Personalizada:\n",
        "**Desarrollo de un PCB Adaptador**: Diseñaremos un circuito impreso (PCB) personalizado que actuará como un adaptador entre la placa STM32F4 y la memoria Q25W32. Este PCB incluirá rutas de señales optimizadas para minimizar la interferencia y maximizar la integridad de la señal.\n",
        "**Evaluación de Conectividad y Pruebas Rigurosas**: Realizaremos pruebas para garantizar una conexión física fiable y duradera, además de verificar la tolerancia al ruido.\n",
        "\n",
        "### Implementación y Optimización del Protocolo QUADSPI:\n",
        "**Configuración Personalizada del Software**: Programaremos la placa STM32F4 para manejar las operaciones de la memoria Q25W32, incluyendo lectura, escritura y borrado de datos, a través de QUADSPI. Esto implicará escribir un firmware personalizado que optimice la velocidad y eficiencia de la comunicación. El desarrollo del firmware no se limita a un simple facilitador de la comunicación. Es el motor principal que impulsa la transferencia de datos y, simultáneamente, implementa técnicas avanzadas de protección para extender la vida útil de la memoria flash.\n",
        "**Optimización del Rendimiento**: Ajustaremos los parámetros del sistema, como la velocidad del reloj y los tiempos de espera, para lograr un equilibrio óptimo entre velocidad, eficiencia y fiabilidad.\n",
        "\n",
        "### Pruebas y Validación:\n",
        "**Simulaciones y Pruebas**: Antes de la implementación, realizaremos simulaciones y pruebas para validar la funcionalidad y el rendimiento del sistema.\n",
        "**Iteraciones de Diseño**: Basándonos en los resultados de las pruebas, realizaremos las iteraciones necesarias en el diseño y la configuración para alcanzar los estándares deseados de fiabilidad y eficiencia.\n",
        "\n",
        "### Consideraciones de Seguridad y Sostenibilidad:\n",
        "La seguridad no es solo un complemento; es un componente intrínseco en cada fase del proyecto. Desde la protección durante la transferencia de datos hasta salvaguardias contra amenazas externas, cada medida busca garantizar la seguridad y sostenibilidad del sistema."
      ]
    },
    {
      "cell_type": "markdown",
      "id": "T1cccAUZLO5w",
      "metadata": {
        "id": "T1cccAUZLO5w"
      },
      "source": [
        "# Requerimientos de hardware\n",
        "\n",
        "1. 1 x Placa STM32F413ZHT6\n",
        "\n",
        "2. 1 x Memoria Flash Winbond W25Q32\n",
        "\n",
        "3. Cableado\n",
        "\n",
        "4. 1 x Equipo de computo\n",
        "\n",
        "5. Equipo para creacion de PCB"
      ]
    },
    {
      "cell_type": "markdown",
      "id": "TG0cfmIZrurp",
      "metadata": {
        "id": "TG0cfmIZrurp"
      },
      "source": [
        "# Requerimientos de software\n",
        "\n",
        "1. Firmware para el STM32\n",
        "\n",
        "2. Protocolo de comunicacion\n",
        "\n",
        "3. Herramientas de programacion y depuracion\n",
        "\n",
        "4. Tecnicas de proteccion en el Firmware\n",
        "\n",
        "5. Seguridad en la comunicacion para proteccion de memoria flash\n"
      ]
    },
    {
      "cell_type": "markdown",
      "id": "g93xy5hGMrH8",
      "metadata": {
        "id": "g93xy5hGMrH8"
      },
      "source": [
        "# Datasheet info\n",
        "\n",
        "### Conexion fisica:\n",
        "\n",
        "La siguiente tabla muestra los pines utilizados correspondientes conectados para el proyecto, incluyendo el color del cable utilizado para poder identificar cada pin y su lugar correspondiente en la placa STM\n",
        "\n",
        "| Flash memory pin | color de cable | STM32F413ZHT6 pin |\n",
        "| :- | --- | --- |\n",
        "| VCC | Naranja | 3v3 |\n",
        "| GND | Gris | GND |\n",
        "| CS | Azul | PB_6 |\n",
        "| CLK | Negro | PB_1 |\n",
        "| IO_0 | Blanco | PD_11 |\n",
        "| IO_1 | Verde | PD_12 |\n",
        "| IO_2 | Morado | PE_2 |\n",
        "| IO_3 | Rojo | PD_13 |\n",
        "\n",
        "Explicacion rapida de cada pin:\n",
        "**VCC** (Voltaje de Alimentación): Este pin se conecta a la fuente de alimentación. Proporciona la tensión necesaria para el funcionamiento de la memoria flash. Para este caso se utiliza alimentacion de 3.3V.\n",
        "\n",
        "**GND** (Tierra): Es el pin de tierra. Se conecta al potencial de tierra del circuito y sirve como referencia para todos los voltajes en el chip.\n",
        "\n",
        "**CS** (Chip Select / Selección de Chip): Este pin se utiliza para activar o desactivar la memoria flash. Cuando está activo (normalmente llevado a nivel bajo), el chip está listo para recibir comandos, datos o para que se lea su contenido. Cuando está inactivo (normalmente en nivel alto), ignora las señales de los demás pines.\n",
        "\n",
        "**CLK** (Clock / Reloj): Este pin recibe la señal de reloj del microcontrolador. La señal de reloj sincroniza la transferencia de datos y comandos entre el microcontrolador y la memoria flash.\n",
        "\n",
        "**IO_0 - IO_3** (Entrada/Salida 0 a 3): Estos pines son multifuncionales y se utilizan tanto para la entrada como para la salida de datos. En una interfaz SPI estándar, solo se utiliza IO0 (MISO - Master In Slave Out, y MOSI - Master Out Slave In). En una interfaz Quad SPI, se utilizan los cuatro pines (IO0 a IO3) para permitir una comunicación más rápida, ya que se pueden transferir 4 bits de datos por ciclo de reloj. Estos pines transportan datos tanto desde el microcontrolador a la memoria (escritura) como desde la memoria al microcontrolador (lectura).\n",
        "\n",
        "### Archivos clave\n",
        "\n",
        "Existen tres archivos clave que son parte de un proyecto típico de STM32 que utiliza una interfaz QUADSPI para comunicarse con una memoria flash externa. Aquí hay una breve descripción de cada uno:\n",
        "\n",
        "1. **main.c:**\n",
        "Este es el archivo principal del programa. Contiene la función main(), que es el punto de entrada del programa. En este archivo se realiza la configuración inicial del microcontrolador y de los periféricos necesarios. También incluye la lógica principal del programa. En tu caso específico, se inicializan los periféricos (GPIO, SPI, QUADSPI), se configura la memoria flash para operaciones de escritura, borrado y lectura, y luego se entra en un bucle infinito (lo cual es común en aplicaciones embebidas).\n",
        "\n",
        "2. **quadspi.c:**\n",
        "Este archivo contiene la configuración y las funciones relacionadas con el periférico QUADSPI del STM32. Incluye la inicialización del hardware QUADSPI, así como funciones para realizar operaciones específicas en la memoria flash como habilitar la escritura, borrar el chip, programar y leer datos, y más. Este archivo es crucial para manejar la comunicación entre el STM32 y la memoria flash a través del protocolo QUADSPI.\n",
        "\n",
        "3. **quadspi.h:**\n",
        "Este es el archivo de encabezado para quadspi.c. Define las funciones, constantes y macros utilizadas en quadspi.c. Los archivos de encabezado en C/C++ se utilizan para declarar funciones y definiciones que se utilizan en uno o más archivos fuente. En tu caso, quadspi.h contiene las declaraciones de las funciones y las definiciones de los comandos específicos de la memoria flash que se utilizan en quadspi.c.\n"
      ]
    },
    {
      "cell_type": "markdown",
      "id": "GqewOHtDQWbn",
      "metadata": {
        "id": "GqewOHtDQWbn"
      },
      "source": [
        "# Desarrollo\n",
        "\n",
        "En el ámbito de las memorias, surge la necesidad de establecer una comunicación robusta entre una computadora y una memoria flash, superando el desafío tecnológico. Este proyecto busca, además, prolongar la vida útil de la memoria mediante técnicas avanzadas de protección.\n",
        "\n",
        "El punto inicial es la elección estratégica del microcontrolador STM32, reconocido por su versatilidad. La infraestructura hardware se diseña cuidadosamente para asegurar una transferencia de datos segura, considerando la elección de la interfaz de comunicación y la disposición de componentes adicionales.\n",
        "\n",
        "La prolongación de la vida útil implica garantizar la estabilidad eléctrica y la introducción de componentes específicos para la protección, como resistencias y capacitores.\n",
        "\n",
        "El desarrollo del firmware inicia con la configuración del microcontrolador y la elección del protocolo de comunicación. La creación de una interfaz de usuario intuitiva en la computadora es esencial. La protección de la memoria se prioriza, implementando técnicas como la distribución uniforme de escrituras y la corrección de errores.\n",
        "\n",
        "La seguridad se integra en cada capa del proyecto, desde la transferencia de datos hasta la protección contra amenazas externas. La documentación detallada se convierte en guía presente y futura, y las pruebas y validaciones van más allá de la funcionalidad básica, evaluando la eficacia de las técnicas de protección.\n",
        "\n",
        "Hay dos versiones del proyecto notables. La version 3 detectaba la memoria externa mientras que la version 4 es la que realiza la lectura y escritura en si.\n",
        "\n",
        "Este proyecto, más que un ejercicio técnico, representa una exploración interdisciplinaria. Desde hardware hasta firmware y software, cada elemento converge para ofrecer no solo una solución efectiva sino también una base sólida para la innovación y sostenibilidad en el mundo de la memoria flash y los microcontroladores."
      ]
    },
    {
      "cell_type": "markdown",
      "id": "y34Tu_p_x8Hj",
      "metadata": {
        "id": "y34Tu_p_x8Hj"
      },
      "source": [
        "# Conclusion\n",
        "\n",
        "Este proyecto ha sido una inmersión profunda en la resolución de una problemática clave: establecer una comunicación eficiente entre una computadora y una memoria flash, con la adición crucial de extender la vida útil mediante técnicas avanzadas de protección.\n",
        "\n",
        "La elección del microcontrolador STM32 y la configuración de la infraestructura hardware han sido fundamentales para lograr una transferencia de datos estable. El desarrollo del firmware, con su selección de protocolo de comunicación y una interfaz de usuario intuitiva, ha sido la clave para el desarrollo del proyecto.\n",
        "\n",
        "La protección de la memoria flash ha sido prioritaria, implementando técnicas avanzadas para preservar datos y garantizar durabilidad en entornos desafiantes. La seguridad ha guiado cada etapa, desde la transferencia de datos hasta la defensa contra amenazas externas.\n",
        "\n",
        "La documentación detallada sirve como registro y guía para futuras mejoras. Las pruebas han evaluado no solo la funcionalidad básica, sino también la eficacia de las técnicas de protección. La optimización constante asegura un rendimiento sostenible.\n",
        "\n",
        "Aunque no logramos que se escribiera exactamente lo que queriamios, ni utilizamos el analisador que se nos fue proporcionado, logramos conseguir que se pudiera realizar tanto lectura como escritura.\n",
        "\n",
        "Este proyecto no es solo técnico, es una exploración interdisciplinaria que fusiona hardware, firmware y software en una solución integral. En última instancia, busca no solo conectar dispositivos, sino preservar y potenciar las tecnologías que dan forma al futuro digital, marcando un paso significativo hacia la innovación y sostenibilidad en el dinámico mundo de la memoria flash y los microcontroladores."
      ]
    },
    {
      "cell_type": "markdown",
      "id": "4CmCefIbNg0y",
      "metadata": {
        "id": "4CmCefIbNg0y"
      },
      "source": [
        "#Referencias\n",
        "\n",
        "* Choung T, Park D, Park S, Lee D. Song D. (agosto, 2006) System Software for Flash Memory: A Survey. Recuperado de: https://link.springer.com/chapter/10.1007/11802167_41\n",
        "\n",
        "* Warren G. (2018) Beginning with STM32. Recuperado de: https://link.springer.com/book/10.1007/978-1-4842-3624-6\n",
        "\n",
        "* Blunden, B. (4 oct, 2002). Memory Management: Algorithms and Implementation in C/C++. Zhu, Y.\n",
        "\n",
        "* Brown G. (2012) Discovering the STM32 Microcontroller. Recuperado de: https://citeseerx.ist.psu.edu/document?repid=rep1&type=pdf&doi=d1fbdf8a3a1b32fd9c951f44f0f5403232412795\n",
        "\n",
        "* STMicroelectronics. STM32 Reference Manuals.\n",
        "\n",
        "* Pavan P, Bez R, Olivo P. Zanoni E. (2007) Flash memory cells-an overview. Recuperado de: https://ieeexplore.ieee.org/abstract/document/622505\n",
        "\n",
        "* Jal E, Toledo S. (2005) Algorithms and data structures for flash memories. Recuperado de: https://dl.acm.org/doi/abs/10.1145/1089733.1089735\n",
        "\n",
        "* Embedded Systems with ARM Cortex-M Microcontrollers in Assembly Language and C.\n",
        "\n",
        "* Bez R, Visconti A, Modelli A. (2005) Introduction to flash memory. Recuperado de: https://ieeexplore.ieee.org/abstract/document/1199079\n",
        "\n",
        "* https://controllerstech.com/w25q-flash-series-part-1-read-id/\n",
        "\n",
        "* https://controllerstech.com/w25q-flash-series-part-7-quadspi-write-read-memory-mapped-mode/\n",
        "\n",
        "* https://controllerstech.com/w25q-flash-series-part-8-quadspi-external-loader/\n",
        "\n"
      ]
    }
  ],
  "metadata": {
    "colab": {
      "provenance": []
    },
    "kernelspec": {
      "display_name": "Python 3",
      "language": "python",
      "name": "python3"
    },
    "language_info": {
      "codemirror_mode": {
        "name": "ipython",
        "version": 3
      },
      "file_extension": ".py",
      "mimetype": "text/x-python",
      "name": "python",
      "nbconvert_exporter": "python",
      "pygments_lexer": "ipython3",
      "version": "3.7.4"
    }
  },
  "nbformat": 4,
  "nbformat_minor": 5
}
